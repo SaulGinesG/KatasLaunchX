{
 "cells": [
  {
   "cell_type": "markdown",
   "metadata": {},
   "source": [
    "# Kata 6"
   ]
  },
  {
   "cell_type": "code",
   "execution_count": 5,
   "metadata": {},
   "outputs": [
    {
     "name": "stdout",
     "output_type": "stream",
     "text": [
      "El total de planetas son 9 y el último planeta es Pluto\n"
     ]
    }
   ],
   "source": [
    "#Ejercicio 1\n",
    "planetas = ['Mercurio', 'Venus', 'Tierra', 'Marte', 'Jupiter', 'Saturno', 'Urano', 'Uranio']\n",
    "planetas.append('Pluto')\n",
    "numedplan = len(planetas)\n",
    "print (\"El total de planetas son\", numedplan, \"y el último planeta es\", planetas[8])\n"
   ]
  },
  {
   "cell_type": "code",
   "execution_count": 11,
   "metadata": {},
   "outputs": [
    {
     "name": "stdout",
     "output_type": "stream",
     "text": [
      "Aquí están los planetas mas cercanos que Tierra\n",
      "['Mercurio', 'Venus']\n",
      "Aquí están los planetas mas lejanos que Tierra\n",
      "['Marte', 'Jupiter', 'Saturno', 'Urano', 'PLuton']\n"
     ]
    }
   ],
   "source": [
    "#Ejercicio 2\n",
    "planetas = ['Mercurio', 'Venus', 'Tierra', 'Marte', 'Jupiter', 'Saturno', 'Urano', 'PLuton']\n",
    "usuario = input ('Introduce el nombre del planeta inciando con una letra mayuscula: ')\n",
    "planeta_indice = planetas.index(usuario)\n",
    "print ('Aquí están los planetas mas cercanos que ' + usuario)\n",
    "print (planetas[0:planeta_indice])\n",
    "\n",
    "print ('Aquí están los planetas mas lejanos que ' + usuario)\n",
    "print (planetas[planeta_indice + 1:])\n"
   ]
  }
 ],
 "metadata": {
  "interpreter": {
   "hash": "43e9f575ba6a7ad8506484ceba45eaa59c7145cfe91a057e1cc1983aa52782cd"
  },
  "kernelspec": {
   "display_name": "Python 3.10.2 64-bit",
   "language": "python",
   "name": "python3"
  },
  "language_info": {
   "codemirror_mode": {
    "name": "ipython",
    "version": 3
   },
   "file_extension": ".py",
   "mimetype": "text/x-python",
   "name": "python",
   "nbconvert_exporter": "python",
   "pygments_lexer": "ipython3",
   "version": "3.10.2"
  },
  "orig_nbformat": 4
 },
 "nbformat": 4,
 "nbformat_minor": 2
}
