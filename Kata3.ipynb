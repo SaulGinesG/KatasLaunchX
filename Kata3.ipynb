{
 "cells": [
  {
   "cell_type": "code",
   "execution_count": 1,
   "metadata": {},
   "outputs": [
    {
     "name": "stdout",
     "output_type": "stream",
     "text": [
      "Peligro un asteroide se acerca\n"
     ]
    }
   ],
   "source": [
    "# Advertencia si un asteroide se acerca a una velocidad mayor a 25 km/s\n",
    "\n",
    "\n",
    "asteroide = 49\n",
    "#velocidad de asteroide\n",
    "velocidad = 25\n",
    "#velocidad permitida\n",
    "\n",
    "if asteroide > velocidad:\n",
    "    print (\"Peligro un asteroide se acerca\")\n",
    "\n"
   ]
  },
  {
   "cell_type": "code",
   "execution_count": 5,
   "metadata": {},
   "outputs": [
    {
     "name": "stdout",
     "output_type": "stream",
     "text": [
      "No enviar advertencia\n"
     ]
    }
   ],
   "source": [
    "# Advertencia si un asteroide se acerca a una velocidad mayor o igual a 20 km/s\n",
    "\n",
    "\n",
    "asteroide = 18\n",
    "#velocidad de asteroide\n",
    "velocidad = 19\n",
    "#velocidad permitida\n",
    "\n",
    "if asteroide > velocidad:\n",
    "    print (\"¡Busca en el cielo un asteroide va a pasar!\")\n",
    "elif asteroide == velocidad:\n",
    "    print (\"¡Hay uno que se dirige a la tierra ahora a una velocidad de 19 km/s!\")\n",
    "else:\n",
    "    print (\"No enviar advertencia\")"
   ]
  },
  {
   "cell_type": "code",
   "execution_count": 17,
   "metadata": {},
   "outputs": [],
   "source": [
    "asteroide = 25\n",
    "velocidad = 21\n",
    "dimension_mayor = 25\n",
    "dimension_menor = 1000\n",
    "velocidad_peligro = 25\n",
    "velocidad_visible = 20\n",
    "\n",
    "if asteroide >= dimension_mayor and asteroide <= dimension_menor:\n",
    "    if velocidad > velocidad_peligro: \n",
    "        print(\"Un asteroide se acerca a la tierra con peligro\")\n",
    "elif asteroide < dimension_mayor and velocidad > velocidad_visible: \n",
    "    print (\"¡Busca en el cielo, va a entrar un asteroide!\")\n",
    "else:\n",
    "    print (\"No hay advertencia\")\n",
    "\n",
    "\n"
   ]
  }
 ],
 "metadata": {
  "interpreter": {
   "hash": "43e9f575ba6a7ad8506484ceba45eaa59c7145cfe91a057e1cc1983aa52782cd"
  },
  "kernelspec": {
   "display_name": "Python 3.10.2 64-bit",
   "language": "python",
   "name": "python3"
  },
  "language_info": {
   "codemirror_mode": {
    "name": "ipython",
    "version": 3
   },
   "file_extension": ".py",
   "mimetype": "text/x-python",
   "name": "python",
   "nbconvert_exporter": "python",
   "pygments_lexer": "ipython3",
   "version": "3.10.2"
  },
  "orig_nbformat": 4
 },
 "nbformat": 4,
 "nbformat_minor": 2
}
