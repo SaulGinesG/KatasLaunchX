{
 "cells": [
  {
   "cell_type": "code",
   "execution_count": null,
   "metadata": {},
   "outputs": [],
   "source": [
    "#Kata 5"
   ]
  },
  {
   "cell_type": "code",
   "execution_count": 11,
   "metadata": {},
   "outputs": [
    {
     "name": "stdout",
     "output_type": "stream",
     "text": [
      "Distancia en kilometros:  628949330\n",
      "Distancia en millas:  390577533\n"
     ]
    }
   ],
   "source": [
    "tierra = 149597870\n",
    "jupiter = 778547200\n",
    "\n",
    "#Calculo de distancia en kilometros\n",
    "distance = (tierra - jupiter)\n",
    "\n",
    "#Conversión a millas\n",
    "distanceinm = (tierra - jupiter)*0.621\n",
    "\n",
    "print ('Distancia en kilometros: ', abs(distance))\n",
    "print ('Distancia en millas: ', int(abs(distanceinm)))\n"
   ]
  },
  {
   "cell_type": "code",
   "execution_count": 12,
   "metadata": {},
   "outputs": [
    {
     "name": "stdout",
     "output_type": "stream",
     "text": [
      "Distancia en km: 628949330\n",
      "Distancia en millas: 390577533.93\n"
     ]
    }
   ],
   "source": [
    "#Ingreso de variables\n",
    "pp = input (\"Distancia del primer planeta al sol: \")\n",
    "sp = input (\"Distancia del segundo planeta al sol: \")\n",
    "\n",
    "#Conversión de variables a enteros\n",
    "pp = int(pp)\n",
    "sp = int(sp)\n",
    "\n",
    "#Calculo de distancia en kilometros\n",
    "distance = abs(pp - sp)\n",
    "#Conversión a millas\n",
    "distancem = distance * 0.621\n",
    "\n",
    "print ('Distancia en kilometros:', distance)\n",
    "print ('Distancia en millas:', distancem)"
   ]
  }
 ],
 "metadata": {
  "interpreter": {
   "hash": "43e9f575ba6a7ad8506484ceba45eaa59c7145cfe91a057e1cc1983aa52782cd"
  },
  "kernelspec": {
   "display_name": "Python 3.10.2 64-bit",
   "language": "python",
   "name": "python3"
  },
  "language_info": {
   "codemirror_mode": {
    "name": "ipython",
    "version": 3
   },
   "file_extension": ".py",
   "mimetype": "text/x-python",
   "name": "python",
   "nbconvert_exporter": "python",
   "pygments_lexer": "ipython3",
   "version": "3.10.2"
  },
  "orig_nbformat": 4
 },
 "nbformat": 4,
 "nbformat_minor": 2
}
